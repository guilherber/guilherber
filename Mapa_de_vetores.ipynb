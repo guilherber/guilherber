{
  "cells": [
    {
      "cell_type": "markdown",
      "metadata": {
        "id": "view-in-github",
        "colab_type": "text"
      },
      "source": [
        "<a href=\"https://colab.research.google.com/github/guilherber/guilherber/blob/master/Mapa_de_vetores.ipynb\" target=\"_parent\"><img src=\"https://colab.research.google.com/assets/colab-badge.svg\" alt=\"Open In Colab\"/></a>"
      ]
    },
    {
      "cell_type": "markdown",
      "source": [
        "#Análise Sinótica da Malha Urbana de Piracicaba/SP\n",
        "\n",
        "\n",
        "\n",
        "\n",
        "O presente projeto possui como objetivo realizar uma análise sinótica diária do perímetro urbano de Piracicaba através da manipulação de vetores de direção do vento em função de seu ângulo.\n",
        "\n",
        "Os dados foram obtidos através da estação meteorológica de Piracicaba, localizado pelas seguintes coordenadas:\n",
        "\n",
        "![image.png](data:image/png;base64,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)\n",
        "\n",
        "\n",
        "\n",
        "\n",
        "\n",
        "\n",
        "\n",
        "\n",
        "\n",
        "\n",
        "\n",
        "\n",
        "\n",
        "\n",
        "\n",
        "\n",
        "\n"
      ],
      "metadata": {
        "id": "rjrTrUReqzdE"
      }
    },
    {
      "cell_type": "code",
      "source": [
        ""
      ],
      "metadata": {
        "id": "7vTmjc13OT1S"
      },
      "execution_count": null,
      "outputs": []
    },
    {
      "cell_type": "markdown",
      "source": [
        "#Pacotes instalados"
      ],
      "metadata": {
        "id": "NmhaZSK0OKeZ"
      }
    },
    {
      "cell_type": "markdown",
      "source": [
        ""
      ],
      "metadata": {
        "id": "OccpQHEC53j6"
      }
    },
    {
      "cell_type": "code",
      "execution_count": 97,
      "metadata": {
        "colab": {
          "base_uri": "https://localhost:8080/"
        },
        "id": "HQHeiVNQTRza",
        "outputId": "a30b64e7-23d5-41d3-e944-39d7fa042967"
      },
      "outputs": [
        {
          "output_type": "stream",
          "name": "stdout",
          "text": [
            "Looking in indexes: https://pypi.org/simple, https://us-python.pkg.dev/colab-wheels/public/simple/\n",
            "Requirement already satisfied: scitools-iris in /usr/local/lib/python3.7/dist-packages (3.1.0)\n",
            "Requirement already satisfied: matplotlib in /usr/local/lib/python3.7/dist-packages (from scitools-iris) (3.1.1)\n",
            "Requirement already satisfied: xxhash in /usr/local/lib/python3.7/dist-packages (from scitools-iris) (3.0.0)\n",
            "Requirement already satisfied: netcdf4 in /usr/local/lib/python3.7/dist-packages (from scitools-iris) (1.5.8)\n",
            "Requirement already satisfied: cftime>=1.5.0 in /usr/local/lib/python3.7/dist-packages (from scitools-iris) (1.6.0)\n",
            "Requirement already satisfied: cf-units in /usr/local/lib/python3.7/dist-packages (from scitools-iris) (3.0.1.post0)\n",
            "Requirement already satisfied: scipy in /usr/local/lib/python3.7/dist-packages (from scitools-iris) (1.4.1)\n",
            "Requirement already satisfied: dask[array]>=2 in /usr/local/lib/python3.7/dist-packages (from scitools-iris) (2.12.0)\n",
            "Requirement already satisfied: numpy>=1.14 in /usr/local/lib/python3.7/dist-packages (from scitools-iris) (1.21.6)\n",
            "Requirement already satisfied: cartopy>=0.18 in /usr/local/lib/python3.7/dist-packages (from scitools-iris) (0.19.0.post1)\n",
            "Requirement already satisfied: pyshp>=2 in /usr/local/lib/python3.7/dist-packages (from cartopy>=0.18->scitools-iris) (2.3.0)\n",
            "Requirement already satisfied: shapely>=1.5.6 in /usr/local/lib/python3.7/dist-packages (from cartopy>=0.18->scitools-iris) (1.8.2)\n",
            "Requirement already satisfied: toolz>=0.7.3 in /usr/local/lib/python3.7/dist-packages (from dask[array]>=2->scitools-iris) (0.11.2)\n",
            "Requirement already satisfied: jinja2 in /usr/local/lib/python3.7/dist-packages (from cf-units->scitools-iris) (2.11.3)\n",
            "Requirement already satisfied: antlr4-python3-runtime==4.7.2 in /usr/local/lib/python3.7/dist-packages (from cf-units->scitools-iris) (4.7.2)\n",
            "Requirement already satisfied: MarkupSafe>=0.23 in /usr/local/lib/python3.7/dist-packages (from jinja2->cf-units->scitools-iris) (2.0.1)\n",
            "Requirement already satisfied: kiwisolver>=1.0.1 in /usr/local/lib/python3.7/dist-packages (from matplotlib->scitools-iris) (1.4.2)\n",
            "Requirement already satisfied: pyparsing!=2.0.4,!=2.1.2,!=2.1.6,>=2.0.1 in /usr/local/lib/python3.7/dist-packages (from matplotlib->scitools-iris) (3.0.9)\n",
            "Requirement already satisfied: python-dateutil>=2.1 in /usr/local/lib/python3.7/dist-packages (from matplotlib->scitools-iris) (2.8.2)\n",
            "Requirement already satisfied: cycler>=0.10 in /usr/local/lib/python3.7/dist-packages (from matplotlib->scitools-iris) (0.11.0)\n",
            "Requirement already satisfied: typing-extensions in /usr/local/lib/python3.7/dist-packages (from kiwisolver>=1.0.1->matplotlib->scitools-iris) (4.2.0)\n",
            "Requirement already satisfied: six>=1.5 in /usr/local/lib/python3.7/dist-packages (from python-dateutil>=2.1->matplotlib->scitools-iris) (1.15.0)\n",
            "Looking in indexes: https://pypi.org/simple, https://us-python.pkg.dev/colab-wheels/public/simple/\n",
            "Requirement already satisfied: numpy in /usr/local/lib/python3.7/dist-packages (1.21.6)\n",
            "Looking in indexes: https://pypi.org/simple, https://us-python.pkg.dev/colab-wheels/public/simple/\n",
            "Requirement already satisfied: iris-sample-data in /usr/local/lib/python3.7/dist-packages (2.4.0)\n",
            "Looking in indexes: https://pypi.org/simple, https://us-python.pkg.dev/colab-wheels/public/simple/\n",
            "Requirement already satisfied: python-dateutil in /usr/local/lib/python3.7/dist-packages (2.8.2)\n",
            "Requirement already satisfied: six>=1.5 in /usr/local/lib/python3.7/dist-packages (from python-dateutil) (1.15.0)\n",
            "Looking in indexes: https://pypi.org/simple, https://us-python.pkg.dev/colab-wheels/public/simple/\n",
            "Requirement already satisfied: pandas in /usr/local/lib/python3.7/dist-packages (1.3.5)\n",
            "Requirement already satisfied: numpy>=1.17.3 in /usr/local/lib/python3.7/dist-packages (from pandas) (1.21.6)\n",
            "Requirement already satisfied: python-dateutil>=2.7.3 in /usr/local/lib/python3.7/dist-packages (from pandas) (2.8.2)\n",
            "Requirement already satisfied: pytz>=2017.3 in /usr/local/lib/python3.7/dist-packages (from pandas) (2022.1)\n",
            "Requirement already satisfied: six>=1.5 in /usr/local/lib/python3.7/dist-packages (from python-dateutil>=2.7.3->pandas) (1.15.0)\n",
            "Looking in indexes: https://pypi.org/simple, https://us-python.pkg.dev/colab-wheels/public/simple/\n",
            "\u001b[31mERROR: Could not find a version that satisfies the requirement sktlearn (from versions: none)\u001b[0m\n",
            "\u001b[31mERROR: No matching distribution found for sktlearn\u001b[0m\n",
            "Looking in indexes: https://pypi.org/simple, https://us-python.pkg.dev/colab-wheels/public/simple/\n",
            "Requirement already satisfied: statsmodels in /usr/local/lib/python3.7/dist-packages (0.10.2)\n",
            "Requirement already satisfied: numpy>=1.11 in /usr/local/lib/python3.7/dist-packages (from statsmodels) (1.21.6)\n",
            "Requirement already satisfied: patsy>=0.4.0 in /usr/local/lib/python3.7/dist-packages (from statsmodels) (0.5.2)\n",
            "Requirement already satisfied: pandas>=0.19 in /usr/local/lib/python3.7/dist-packages (from statsmodels) (1.3.5)\n",
            "Requirement already satisfied: scipy>=0.18 in /usr/local/lib/python3.7/dist-packages (from statsmodels) (1.4.1)\n",
            "Requirement already satisfied: pytz>=2017.3 in /usr/local/lib/python3.7/dist-packages (from pandas>=0.19->statsmodels) (2022.1)\n",
            "Requirement already satisfied: python-dateutil>=2.7.3 in /usr/local/lib/python3.7/dist-packages (from pandas>=0.19->statsmodels) (2.8.2)\n",
            "Requirement already satisfied: six in /usr/local/lib/python3.7/dist-packages (from patsy>=0.4.0->statsmodels) (1.15.0)\n",
            "Looking in indexes: https://pypi.org/simple, https://us-python.pkg.dev/colab-wheels/public/simple/\n",
            "Requirement already satisfied: contextily in /usr/local/lib/python3.7/dist-packages (1.2.0)\n",
            "Requirement already satisfied: requests in /usr/local/lib/python3.7/dist-packages (from contextily) (2.23.0)\n",
            "Requirement already satisfied: rasterio in /usr/local/lib/python3.7/dist-packages (from contextily) (1.2.10)\n",
            "Requirement already satisfied: geopy in /usr/local/lib/python3.7/dist-packages (from contextily) (1.17.0)\n",
            "Requirement already satisfied: joblib in /usr/local/lib/python3.7/dist-packages (from contextily) (1.1.0)\n",
            "Requirement already satisfied: mercantile in /usr/local/lib/python3.7/dist-packages (from contextily) (1.2.1)\n",
            "Requirement already satisfied: pillow in /usr/local/lib/python3.7/dist-packages (from contextily) (7.1.2)\n",
            "Requirement already satisfied: matplotlib in /usr/local/lib/python3.7/dist-packages (from contextily) (3.1.1)\n",
            "Requirement already satisfied: xyzservices in /usr/local/lib/python3.7/dist-packages (from contextily) (2022.4.0)\n",
            "Requirement already satisfied: geographiclib<2,>=1.49 in /usr/local/lib/python3.7/dist-packages (from geopy->contextily) (1.52)\n",
            "Requirement already satisfied: cycler>=0.10 in /usr/local/lib/python3.7/dist-packages (from matplotlib->contextily) (0.11.0)\n",
            "Requirement already satisfied: python-dateutil>=2.1 in /usr/local/lib/python3.7/dist-packages (from matplotlib->contextily) (2.8.2)\n",
            "Requirement already satisfied: pyparsing!=2.0.4,!=2.1.2,!=2.1.6,>=2.0.1 in /usr/local/lib/python3.7/dist-packages (from matplotlib->contextily) (3.0.9)\n",
            "Requirement already satisfied: numpy>=1.11 in /usr/local/lib/python3.7/dist-packages (from matplotlib->contextily) (1.21.6)\n",
            "Requirement already satisfied: kiwisolver>=1.0.1 in /usr/local/lib/python3.7/dist-packages (from matplotlib->contextily) (1.4.2)\n",
            "Requirement already satisfied: typing-extensions in /usr/local/lib/python3.7/dist-packages (from kiwisolver>=1.0.1->matplotlib->contextily) (4.2.0)\n",
            "Requirement already satisfied: six>=1.5 in /usr/local/lib/python3.7/dist-packages (from python-dateutil>=2.1->matplotlib->contextily) (1.15.0)\n",
            "Requirement already satisfied: click>=3.0 in /usr/local/lib/python3.7/dist-packages (from mercantile->contextily) (7.1.2)\n",
            "Requirement already satisfied: attrs in /usr/local/lib/python3.7/dist-packages (from rasterio->contextily) (21.4.0)\n",
            "Requirement already satisfied: affine in /usr/local/lib/python3.7/dist-packages (from rasterio->contextily) (2.3.1)\n",
            "Requirement already satisfied: snuggs>=1.4.1 in /usr/local/lib/python3.7/dist-packages (from rasterio->contextily) (1.4.7)\n",
            "Requirement already satisfied: certifi in /usr/local/lib/python3.7/dist-packages (from rasterio->contextily) (2022.5.18.1)\n",
            "Requirement already satisfied: setuptools in /usr/local/lib/python3.7/dist-packages (from rasterio->contextily) (57.4.0)\n",
            "Requirement already satisfied: click-plugins in /usr/local/lib/python3.7/dist-packages (from rasterio->contextily) (1.1.1)\n",
            "Requirement already satisfied: cligj>=0.5 in /usr/local/lib/python3.7/dist-packages (from rasterio->contextily) (0.7.2)\n",
            "Requirement already satisfied: idna<3,>=2.5 in /usr/local/lib/python3.7/dist-packages (from requests->contextily) (2.10)\n",
            "Requirement already satisfied: urllib3!=1.25.0,!=1.25.1,<1.26,>=1.21.1 in /usr/local/lib/python3.7/dist-packages (from requests->contextily) (1.24.3)\n",
            "Requirement already satisfied: chardet<4,>=3.0.2 in /usr/local/lib/python3.7/dist-packages (from requests->contextily) (3.0.4)\n",
            "Looking in indexes: https://pypi.org/simple, https://us-python.pkg.dev/colab-wheels/public/simple/\n",
            "Requirement already satisfied: seaborn in /usr/local/lib/python3.7/dist-packages (0.11.2)\n",
            "Requirement already satisfied: pandas>=0.23 in /usr/local/lib/python3.7/dist-packages (from seaborn) (1.3.5)\n",
            "Requirement already satisfied: numpy>=1.15 in /usr/local/lib/python3.7/dist-packages (from seaborn) (1.21.6)\n",
            "Requirement already satisfied: scipy>=1.0 in /usr/local/lib/python3.7/dist-packages (from seaborn) (1.4.1)\n",
            "Requirement already satisfied: matplotlib>=2.2 in /usr/local/lib/python3.7/dist-packages (from seaborn) (3.1.1)\n",
            "Requirement already satisfied: pyparsing!=2.0.4,!=2.1.2,!=2.1.6,>=2.0.1 in /usr/local/lib/python3.7/dist-packages (from matplotlib>=2.2->seaborn) (3.0.9)\n",
            "Requirement already satisfied: python-dateutil>=2.1 in /usr/local/lib/python3.7/dist-packages (from matplotlib>=2.2->seaborn) (2.8.2)\n",
            "Requirement already satisfied: kiwisolver>=1.0.1 in /usr/local/lib/python3.7/dist-packages (from matplotlib>=2.2->seaborn) (1.4.2)\n",
            "Requirement already satisfied: cycler>=0.10 in /usr/local/lib/python3.7/dist-packages (from matplotlib>=2.2->seaborn) (0.11.0)\n",
            "Requirement already satisfied: typing-extensions in /usr/local/lib/python3.7/dist-packages (from kiwisolver>=1.0.1->matplotlib>=2.2->seaborn) (4.2.0)\n",
            "Requirement already satisfied: pytz>=2017.3 in /usr/local/lib/python3.7/dist-packages (from pandas>=0.23->seaborn) (2022.1)\n",
            "Requirement already satisfied: six>=1.5 in /usr/local/lib/python3.7/dist-packages (from python-dateutil>=2.1->matplotlib>=2.2->seaborn) (1.15.0)\n",
            "Looking in indexes: https://pypi.org/simple, https://us-python.pkg.dev/colab-wheels/public/simple/\n",
            "Requirement already satisfied: geopandas in /usr/local/lib/python3.7/dist-packages (0.10.2)\n",
            "Requirement already satisfied: pyproj>=2.2.0 in /usr/local/lib/python3.7/dist-packages (from geopandas) (3.2.1)\n",
            "Requirement already satisfied: pandas>=0.25.0 in /usr/local/lib/python3.7/dist-packages (from geopandas) (1.3.5)\n",
            "Requirement already satisfied: shapely>=1.6 in /usr/local/lib/python3.7/dist-packages (from geopandas) (1.8.2)\n",
            "Requirement already satisfied: fiona>=1.8 in /usr/local/lib/python3.7/dist-packages (from geopandas) (1.8.21)\n",
            "Requirement already satisfied: cligj>=0.5 in /usr/local/lib/python3.7/dist-packages (from fiona>=1.8->geopandas) (0.7.2)\n",
            "Requirement already satisfied: six>=1.7 in /usr/local/lib/python3.7/dist-packages (from fiona>=1.8->geopandas) (1.15.0)\n",
            "Requirement already satisfied: click-plugins>=1.0 in /usr/local/lib/python3.7/dist-packages (from fiona>=1.8->geopandas) (1.1.1)\n",
            "Requirement already satisfied: click>=4.0 in /usr/local/lib/python3.7/dist-packages (from fiona>=1.8->geopandas) (7.1.2)\n",
            "Requirement already satisfied: certifi in /usr/local/lib/python3.7/dist-packages (from fiona>=1.8->geopandas) (2022.5.18.1)\n",
            "Requirement already satisfied: attrs>=17 in /usr/local/lib/python3.7/dist-packages (from fiona>=1.8->geopandas) (21.4.0)\n",
            "Requirement already satisfied: setuptools in /usr/local/lib/python3.7/dist-packages (from fiona>=1.8->geopandas) (57.4.0)\n",
            "Requirement already satisfied: munch in /usr/local/lib/python3.7/dist-packages (from fiona>=1.8->geopandas) (2.5.0)\n",
            "Requirement already satisfied: numpy>=1.17.3 in /usr/local/lib/python3.7/dist-packages (from pandas>=0.25.0->geopandas) (1.21.6)\n",
            "Requirement already satisfied: pytz>=2017.3 in /usr/local/lib/python3.7/dist-packages (from pandas>=0.25.0->geopandas) (2022.1)\n",
            "Requirement already satisfied: python-dateutil>=2.7.3 in /usr/local/lib/python3.7/dist-packages (from pandas>=0.25.0->geopandas) (2.8.2)\n",
            "Looking in indexes: https://pypi.org/simple, https://us-python.pkg.dev/colab-wheels/public/simple/\n",
            "Requirement already satisfied: matplotlib in /usr/local/lib/python3.7/dist-packages (3.1.1)\n",
            "Requirement already satisfied: numpy>=1.11 in /usr/local/lib/python3.7/dist-packages (from matplotlib) (1.21.6)\n",
            "Requirement already satisfied: cycler>=0.10 in /usr/local/lib/python3.7/dist-packages (from matplotlib) (0.11.0)\n",
            "Requirement already satisfied: kiwisolver>=1.0.1 in /usr/local/lib/python3.7/dist-packages (from matplotlib) (1.4.2)\n",
            "Requirement already satisfied: pyparsing!=2.0.4,!=2.1.2,!=2.1.6,>=2.0.1 in /usr/local/lib/python3.7/dist-packages (from matplotlib) (3.0.9)\n",
            "Requirement already satisfied: python-dateutil>=2.1 in /usr/local/lib/python3.7/dist-packages (from matplotlib) (2.8.2)\n",
            "Requirement already satisfied: typing-extensions in /usr/local/lib/python3.7/dist-packages (from kiwisolver>=1.0.1->matplotlib) (4.2.0)\n",
            "Requirement already satisfied: six>=1.5 in /usr/local/lib/python3.7/dist-packages (from python-dateutil>=2.1->matplotlib) (1.15.0)\n"
          ]
        }
      ],
      "source": [
        "#O comando \"pip\" instala os pacotes necessários para análise dos dados obtidos através do banco de dados da ESALQ/USP\n",
        "!pip install scitools-iris\n",
        "!pip install numpy --upgrade\n",
        "!pip install iris-sample-data\n",
        "!pip install python-dateutil\n",
        "!pip install pandas\n",
        "!pip install sktlearn\n",
        "!pip install statsmodels\n",
        "!pip install contextily\n",
        "!pip install seaborn\n",
        "!pip install geopandas\n",
        "!pip install matplotlib"
      ]
    },
    {
      "cell_type": "markdown",
      "source": [
        ""
      ],
      "metadata": {
        "id": "UiTo4iDuOIcp"
      }
    },
    {
      "cell_type": "code",
      "execution_count": 98,
      "metadata": {
        "id": "kpXfe56KP01C"
      },
      "outputs": [],
      "source": [
        "import pandas as pd\n",
        "import geopandas\n",
        "import matplotlib.pyplot as plt\n",
        "import contextily as cx\n",
        "import io\n",
        "import geopandas as gpd\n",
        "import iris\n",
        "import iris.coord_categorisation\n",
        "import iris.quickplot as qplt\n",
        "import iris.pandas\n",
        "import cartopy\n",
        "import matplotlib.pyplot as plt\n",
        "import numpy as np\n",
        "from matplotlib import pyplot as plt\n",
        "\n",
        "import cartopy.crs as ccrs\n",
        "import seaborn as sns \n",
        "from statsmodels.tsa.stattools import adfuller"
      ]
    },
    {
      "cell_type": "markdown",
      "source": [
        "#Modelagem e obtenção dos dados"
      ],
      "metadata": {
        "id": "QZU5kY3HOYeA"
      }
    },
    {
      "cell_type": "code",
      "execution_count": 4,
      "metadata": {
        "id": "ersJv2Q6P8D4"
      },
      "outputs": [],
      "source": [
        "df = pd.DataFrame(\n",
        "    {'County': ['Piracicaba'],\n",
        "     'Latitude': [-22.66],\n",
        "     'Longitude': [-47.72]})"
      ]
    },
    {
      "cell_type": "code",
      "execution_count": 5,
      "metadata": {
        "id": "Mld2-3xUQsdb"
      },
      "outputs": [],
      "source": [
        "gdf = geopandas.GeoDataFrame(\n",
        "    df, geometry=geopandas.points_from_xy(df.Longitude, df.Latitude))"
      ]
    },
    {
      "cell_type": "code",
      "execution_count": 6,
      "metadata": {
        "colab": {
          "base_uri": "https://localhost:8080/"
        },
        "id": "mE9Q18RFQvPf",
        "outputId": "4d722768-693e-47fc-90a1-c6b2497dcbc5"
      },
      "outputs": [
        {
          "output_type": "stream",
          "name": "stdout",
          "text": [
            "       County  Latitude  Longitude                     geometry\n",
            "0  Piracicaba    -22.66     -47.72  POINT (-47.72000 -22.66000)\n"
          ]
        }
      ],
      "source": [
        "print(gdf.head())"
      ]
    },
    {
      "cell_type": "code",
      "execution_count": 14,
      "metadata": {
        "colab": {
          "base_uri": "https://localhost:8080/"
        },
        "id": "bHqXoczfSPB6",
        "outputId": "e96ae0e4-9e13-4a0e-cf3e-6d4cd7fd55e1"
      },
      "outputs": [
        {
          "output_type": "stream",
          "name": "stdout",
          "text": [
            "           TIMESTAMP  RECORD  BattV_Avg  Tar_AVG  UR_inst  Vvento_ms_AVG  \\\n",
            "0    12/31/2021 0:00   32869      10.32    20.09     95.4           0.00   \n",
            "1    12/31/2021 0:15   32870      10.31    20.01     96.5           0.15   \n",
            "2    12/31/2021 0:30   32871      10.30    19.94     96.7           0.00   \n",
            "3    12/31/2021 0:45   32872      10.30    20.05     96.2           0.00   \n",
            "4    12/31/2021 1:00   32873      10.29    20.15     96.1           0.00   \n",
            "..               ...     ...        ...      ...      ...            ...   \n",
            "190                0       0       0.00     0.00      0.0           0.00   \n",
            "191                0       0       0.00     0.00      0.0           0.00   \n",
            "192                0       0       0.00     0.00      0.0           0.00   \n",
            "193                0       0       0.00     0.00      0.0           0.00   \n",
            "194                0       0       0.00     0.00      0.0           0.00   \n",
            "\n",
            "     Dvento_G  Qg_AVG  PAR_AVG  Rn_Avg  ...  Qsup_AVG  Boc_AVG  Bol_AVG  \\\n",
            "0      135.90     0.0        0  -39.75  ...         0        0        0   \n",
            "1      287.10     0.0        0  -24.01  ...         0        0        0   \n",
            "2       78.28     0.0        0  -24.14  ...         0        0        0   \n",
            "3       25.44     0.0        0  -13.81  ...         0        0        0   \n",
            "4       80.20     0.0        0  -12.87  ...         0        0        0   \n",
            "..        ...     ...      ...     ...  ...       ...      ...      ...   \n",
            "190      0.00     0.0        0    0.00  ...         0        0        0   \n",
            "191      0.00     0.0        0    0.00  ...         0        0        0   \n",
            "192      0.00     0.0        0    0.00  ...         0        0        0   \n",
            "193      0.00     0.0        0    0.00  ...         0        0        0   \n",
            "194      0.00     0.0        0    0.00  ...         0        0        0   \n",
            "\n",
            "     Albedo_Avg  QatmC_AVG  QsupC_AVG  Vvento_ms_S_WVT  Dvento_D1_WVT  \\\n",
            "0             0          0          0             0.00            0.0   \n",
            "1             0          0          0             0.15          283.9   \n",
            "2             0          0          0             0.00            0.0   \n",
            "3             0          0          0             0.00            0.0   \n",
            "4             0          0          0             0.00            0.0   \n",
            "..          ...        ...        ...              ...            ...   \n",
            "190           0          0          0             0.00            0.0   \n",
            "191           0          0          0             0.00            0.0   \n",
            "192           0          0          0             0.00            0.0   \n",
            "193           0          0          0             0.00            0.0   \n",
            "194           0          0          0             0.00            0.0   \n",
            "\n",
            "     Dvento_SD1_WVT  PainelT  \n",
            "0             0.000    20.91  \n",
            "1             6.324    20.79  \n",
            "2             0.000    20.81  \n",
            "3             0.000    20.92  \n",
            "4             0.000    21.08  \n",
            "..              ...      ...  \n",
            "190           0.000     0.00  \n",
            "191           0.000     0.00  \n",
            "192           0.000     0.00  \n",
            "193           0.000     0.00  \n",
            "194           0.000     0.00  \n",
            "\n",
            "[195 rows x 24 columns]\n"
          ]
        }
      ],
      "source": [
        "df1 = pd.read_csv('/content/Teste1.csv')\n",
        "print(df1)"
      ]
    },
    {
      "cell_type": "code",
      "execution_count": 8,
      "metadata": {
        "colab": {
          "base_uri": "https://localhost:8080/"
        },
        "id": "VOs4MDaCaji7",
        "outputId": "2870b929-698e-4f81-bd8d-d5e362255eff"
      },
      "outputs": [
        {
          "output_type": "stream",
          "name": "stdout",
          "text": [
            "County         object\n",
            "Latitude      float64\n",
            "Longitude     float64\n",
            "geometry     geometry\n",
            "dtype: object\n"
          ]
        }
      ],
      "source": [
        "print (df.dtypes)"
      ]
    },
    {
      "cell_type": "code",
      "execution_count": 9,
      "metadata": {
        "id": "Yd5tEPmsSsz8"
      },
      "outputs": [],
      "source": [
        "cidade_pira = gpd.read_file('/content/Cidadepira.shp')"
      ]
    },
    {
      "cell_type": "code",
      "execution_count": 10,
      "metadata": {
        "id": "bQi8l3CgS6pq"
      },
      "outputs": [],
      "source": [
        "af = cidade_pira[\"geometry\"].apply(lambda p: list(p.exterior.coords)).explode().apply(pd.Series).rename(columns=({0:\"x\", 1:\"y\"}))"
      ]
    },
    {
      "cell_type": "code",
      "source": [
        "af"
      ],
      "metadata": {
        "colab": {
          "base_uri": "https://localhost:8080/",
          "height": 424
        },
        "id": "ljY3sB-AUm6T",
        "outputId": "b144bb4d-3ae1-48e3-afb2-4513f33dfcdf"
      },
      "execution_count": 11,
      "outputs": [
        {
          "output_type": "execute_result",
          "data": {
            "text/plain": [
              "            x          y\n",
              "0  -47.644908 -22.767681\n",
              "0  -47.647719 -22.767385\n",
              "0  -47.648159 -22.765031\n",
              "0  -47.646926 -22.763351\n",
              "0  -47.650298 -22.760940\n",
              "..        ...        ...\n",
              "0  -47.637063 -22.765388\n",
              "0  -47.638450 -22.766009\n",
              "0  -47.640856 -22.766650\n",
              "0  -47.642636 -22.766806\n",
              "0  -47.644908 -22.767681\n",
              "\n",
              "[197 rows x 2 columns]"
            ],
            "text/html": [
              "\n",
              "  <div id=\"df-4e670476-89a2-48b7-86ff-d3e480e5e6e8\">\n",
              "    <div class=\"colab-df-container\">\n",
              "      <div>\n",
              "<style scoped>\n",
              "    .dataframe tbody tr th:only-of-type {\n",
              "        vertical-align: middle;\n",
              "    }\n",
              "\n",
              "    .dataframe tbody tr th {\n",
              "        vertical-align: top;\n",
              "    }\n",
              "\n",
              "    .dataframe thead th {\n",
              "        text-align: right;\n",
              "    }\n",
              "</style>\n",
              "<table border=\"1\" class=\"dataframe\">\n",
              "  <thead>\n",
              "    <tr style=\"text-align: right;\">\n",
              "      <th></th>\n",
              "      <th>x</th>\n",
              "      <th>y</th>\n",
              "    </tr>\n",
              "  </thead>\n",
              "  <tbody>\n",
              "    <tr>\n",
              "      <th>0</th>\n",
              "      <td>-47.644908</td>\n",
              "      <td>-22.767681</td>\n",
              "    </tr>\n",
              "    <tr>\n",
              "      <th>0</th>\n",
              "      <td>-47.647719</td>\n",
              "      <td>-22.767385</td>\n",
              "    </tr>\n",
              "    <tr>\n",
              "      <th>0</th>\n",
              "      <td>-47.648159</td>\n",
              "      <td>-22.765031</td>\n",
              "    </tr>\n",
              "    <tr>\n",
              "      <th>0</th>\n",
              "      <td>-47.646926</td>\n",
              "      <td>-22.763351</td>\n",
              "    </tr>\n",
              "    <tr>\n",
              "      <th>0</th>\n",
              "      <td>-47.650298</td>\n",
              "      <td>-22.760940</td>\n",
              "    </tr>\n",
              "    <tr>\n",
              "      <th>...</th>\n",
              "      <td>...</td>\n",
              "      <td>...</td>\n",
              "    </tr>\n",
              "    <tr>\n",
              "      <th>0</th>\n",
              "      <td>-47.637063</td>\n",
              "      <td>-22.765388</td>\n",
              "    </tr>\n",
              "    <tr>\n",
              "      <th>0</th>\n",
              "      <td>-47.638450</td>\n",
              "      <td>-22.766009</td>\n",
              "    </tr>\n",
              "    <tr>\n",
              "      <th>0</th>\n",
              "      <td>-47.640856</td>\n",
              "      <td>-22.766650</td>\n",
              "    </tr>\n",
              "    <tr>\n",
              "      <th>0</th>\n",
              "      <td>-47.642636</td>\n",
              "      <td>-22.766806</td>\n",
              "    </tr>\n",
              "    <tr>\n",
              "      <th>0</th>\n",
              "      <td>-47.644908</td>\n",
              "      <td>-22.767681</td>\n",
              "    </tr>\n",
              "  </tbody>\n",
              "</table>\n",
              "<p>197 rows × 2 columns</p>\n",
              "</div>\n",
              "      <button class=\"colab-df-convert\" onclick=\"convertToInteractive('df-4e670476-89a2-48b7-86ff-d3e480e5e6e8')\"\n",
              "              title=\"Convert this dataframe to an interactive table.\"\n",
              "              style=\"display:none;\">\n",
              "        \n",
              "  <svg xmlns=\"http://www.w3.org/2000/svg\" height=\"24px\"viewBox=\"0 0 24 24\"\n",
              "       width=\"24px\">\n",
              "    <path d=\"M0 0h24v24H0V0z\" fill=\"none\"/>\n",
              "    <path d=\"M18.56 5.44l.94 2.06.94-2.06 2.06-.94-2.06-.94-.94-2.06-.94 2.06-2.06.94zm-11 1L8.5 8.5l.94-2.06 2.06-.94-2.06-.94L8.5 2.5l-.94 2.06-2.06.94zm10 10l.94 2.06.94-2.06 2.06-.94-2.06-.94-.94-2.06-.94 2.06-2.06.94z\"/><path d=\"M17.41 7.96l-1.37-1.37c-.4-.4-.92-.59-1.43-.59-.52 0-1.04.2-1.43.59L10.3 9.45l-7.72 7.72c-.78.78-.78 2.05 0 2.83L4 21.41c.39.39.9.59 1.41.59.51 0 1.02-.2 1.41-.59l7.78-7.78 2.81-2.81c.8-.78.8-2.07 0-2.86zM5.41 20L4 18.59l7.72-7.72 1.47 1.35L5.41 20z\"/>\n",
              "  </svg>\n",
              "      </button>\n",
              "      \n",
              "  <style>\n",
              "    .colab-df-container {\n",
              "      display:flex;\n",
              "      flex-wrap:wrap;\n",
              "      gap: 12px;\n",
              "    }\n",
              "\n",
              "    .colab-df-convert {\n",
              "      background-color: #E8F0FE;\n",
              "      border: none;\n",
              "      border-radius: 50%;\n",
              "      cursor: pointer;\n",
              "      display: none;\n",
              "      fill: #1967D2;\n",
              "      height: 32px;\n",
              "      padding: 0 0 0 0;\n",
              "      width: 32px;\n",
              "    }\n",
              "\n",
              "    .colab-df-convert:hover {\n",
              "      background-color: #E2EBFA;\n",
              "      box-shadow: 0px 1px 2px rgba(60, 64, 67, 0.3), 0px 1px 3px 1px rgba(60, 64, 67, 0.15);\n",
              "      fill: #174EA6;\n",
              "    }\n",
              "\n",
              "    [theme=dark] .colab-df-convert {\n",
              "      background-color: #3B4455;\n",
              "      fill: #D2E3FC;\n",
              "    }\n",
              "\n",
              "    [theme=dark] .colab-df-convert:hover {\n",
              "      background-color: #434B5C;\n",
              "      box-shadow: 0px 1px 3px 1px rgba(0, 0, 0, 0.15);\n",
              "      filter: drop-shadow(0px 1px 2px rgba(0, 0, 0, 0.3));\n",
              "      fill: #FFFFFF;\n",
              "    }\n",
              "  </style>\n",
              "\n",
              "      <script>\n",
              "        const buttonEl =\n",
              "          document.querySelector('#df-4e670476-89a2-48b7-86ff-d3e480e5e6e8 button.colab-df-convert');\n",
              "        buttonEl.style.display =\n",
              "          google.colab.kernel.accessAllowed ? 'block' : 'none';\n",
              "\n",
              "        async function convertToInteractive(key) {\n",
              "          const element = document.querySelector('#df-4e670476-89a2-48b7-86ff-d3e480e5e6e8');\n",
              "          const dataTable =\n",
              "            await google.colab.kernel.invokeFunction('convertToInteractive',\n",
              "                                                     [key], {});\n",
              "          if (!dataTable) return;\n",
              "\n",
              "          const docLinkHtml = 'Like what you see? Visit the ' +\n",
              "            '<a target=\"_blank\" href=https://colab.research.google.com/notebooks/data_table.ipynb>data table notebook</a>'\n",
              "            + ' to learn more about interactive tables.';\n",
              "          element.innerHTML = '';\n",
              "          dataTable['output_type'] = 'display_data';\n",
              "          await google.colab.output.renderOutput(dataTable, element);\n",
              "          const docLink = document.createElement('div');\n",
              "          docLink.innerHTML = docLinkHtml;\n",
              "          element.appendChild(docLink);\n",
              "        }\n",
              "      </script>\n",
              "    </div>\n",
              "  </div>\n",
              "  "
            ]
          },
          "metadata": {},
          "execution_count": 11
        }
      ]
    },
    {
      "cell_type": "code",
      "execution_count": 206,
      "metadata": {
        "id": "12awIVW9fI9h",
        "colab": {
          "base_uri": "https://localhost:8080/",
          "height": 298
        },
        "outputId": "e7144a27-38d4-418b-8e15-9f27081de1db"
      },
      "outputs": [
        {
          "output_type": "execute_result",
          "data": {
            "text/plain": [
              "<matplotlib.axes._subplots.AxesSubplot at 0x7fec53c51610>"
            ]
          },
          "metadata": {},
          "execution_count": 206
        },
        {
          "output_type": "display_data",
          "data": {
            "text/plain": [
              "<Figure size 432x288 with 1 Axes>"
            ],
            "image/png": "[encoded data removed]"
          },
          "metadata": {
            "needs_background": "light"
          }
        }
      ],
      "source": [
        "lon= af.x\n",
        "lat= af.y\n",
        "m = df1['Vvento_ms_AVG']\n",
        "u= df1['Dvento_D1_WVT']\n",
        "v= df1['Dvento_SD1_WVT']\n",
        "u_norm = u / np.sqrt(u ** 2.0 + v ** 2.0)\n",
        "v_norm = v / np.sqrt(u ** 2.0 + v ** 2.0)\n",
        "\n",
        "fig, ax = plt.subplots()\n",
        "q = ax.quiver(lon, lat, u_norm, v_norm, m)\n",
        "\n",
        "plt.title(\"Velocidade média em m/s e direção do vento em Piracicaba/SP em 31/12/2021\")\n",
        "cidade_pira.boundary.plot(ax=ax, color='gray', zorder=2)\n"
      ]
    },
    {
      "cell_type": "code",
      "source": [
        "lon= np.gradient(af.x)\n",
        "lat= np.gradient(af.y)\n",
        "m = df1['Vvento_ms_AVG']\n",
        "u= df1['Dvento_D1_WVT']\n",
        "v= df1['Dvento_SD1_WVT']\n",
        "u_norm = u / np.sqrt(u ** 2.0 + v ** 2.0)\n",
        "v_norm = v / np.sqrt(u ** 2.0 + v ** 2.0)\n",
        "\n",
        "fig, ax = plt.subplots()\n",
        "q = ax.quiver(lon, lat, u_norm, v_norm, m)\n",
        "\n",
        "plt.title(\"Velocidade média em m/s e direção do vento em Piracicaba/SP em 31/12/2021\")"
      ],
      "metadata": {
        "colab": {
          "base_uri": "https://localhost:8080/",
          "height": 298
        },
        "id": "2Fe1enBPdMrE",
        "outputId": "b23aa3d1-ea1a-49c3-a692-064c73780609"
      },
      "execution_count": 207,
      "outputs": [
        {
          "output_type": "execute_result",
          "data": {
            "text/plain": [
              "Text(0.5, 1.0, 'Velocidade média em m/s e direção do vento em Piracicaba/SP em 31/12/2021')"
            ]
          },
          "metadata": {},
          "execution_count": 207
        },
        {
          "output_type": "display_data",
          "data": {
            "text/plain": [
              "<Figure size 432x288 with 1 Axes>"
            ],
            "image/png": "[encoded data removed]"
          },
          "metadata": {
            "needs_background": "light"
          }
        }
      ]
    },
    {
      "cell_type": "code",
      "source": [
        ""
      ],
      "metadata": {
        "id": "zM4lPW2f9kq2"
      },
      "execution_count": null,
      "outputs": []
    }
  ],
  "metadata": {
    "colab": {
      "collapsed_sections": [],
      "name": "Mapa de vetores",
      "provenance": [],
      "include_colab_link": true
    },
    "kernelspec": {
      "display_name": "Python 3",
      "name": "python3"
    },
    "language_info": {
      "name": "python"
    }
  },
  "nbformat": 4,
  "nbformat_minor": 0
}